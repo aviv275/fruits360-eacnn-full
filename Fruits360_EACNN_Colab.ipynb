{
 "cells": [
  {
   "cell_type": "markdown",
   "metadata": {},
   "source": [
    "# Fruits-360 EA-CNN: Google Colab Notebook"
   ]
  },
  {
   "cell_type": "markdown",
   "metadata": {},
   "source": [
    "## 1. Install Dependencies\n(TensorFlow, LIME, Streamlit, pyngrok, etc.)"
   ]
  },
  {
   "cell_type": "code",
   "metadata": {},
   "source": [
    "!pip install tensorflow==2.15.0 scikit-learn pandas tqdm opencv-python pillow lime matplotlib streamlit==1.35.0 pyngrok"
   ],
   "execution_count": null,
   "outputs": []
  },
  {
   "cell_type": "markdown",
   "metadata": {},
   "source": [
    "## 2. Mount Google Drive (for dataset/code upload)"
   ]
  },
  {
   "cell_type": "code",
   "metadata": {},
   "source": [
    "from google.colab import drive\ndrive.mount('/content/drive')"
   ],
   "execution_count": null,
   "outputs": []
  },
  {
   "cell_type": "markdown",
   "metadata": {},
   "source": [
    "## 3. Upload or Unzip Fruits-360 Dataset\n- Place your `fruits-360_100x100.zip` in your Google Drive, or upload manually below.\n- After upload, unzip so you have `data/raw/fruits-360/train/` and `data/raw/fruits-360/test/`.\n\n**Uncomment and run the cell below if you want to upload manually:**"
   ]
  },
  {
   "cell_type": "code",
   "metadata": {},
   "source": [
    "# from google.colab import files\n# uploaded = files.upload()\n# !unzip fruits-360_100x100.zip -d data/raw/"
   ],
   "execution_count": null,
   "outputs": []
  },
  {
   "cell_type": "markdown",
   "metadata": {},
   "source": [
    "## 4. Clone Your Project Repo or Upload Code\n- If your code is on GitHub, clone it.\n- Otherwise, upload a zip and unzip.\n\n**Uncomment and edit the cell below as needed:**"
   ]
  },
  {
   "cell_type": "code",
   "metadata": {},
   "source": [
    "# !git clone <your-repo-url>.git\n# OR\n# from google.colab import files\n# uploaded = files.upload()\n# !unzip your_project.zip"
   ],
   "execution_count": null,
   "outputs": []
  },
  {
   "cell_type": "markdown",
   "metadata": {},
   "source": [
    "## 5. Train the EA-CNN Model\n- Edit the config if needed for Colab (e.g., reduce epochs for quick tests).\n- Run training."
   ]
  },
  {
   "cell_type": "code",
   "metadata": {},
   "source": [
    "%cd /content/<your-project-folder>\n!python3 -m src.train"
   ],
   "execution_count": null,
   "outputs": []
  },
  {
   "cell_type": "markdown",
   "metadata": {},
   "source": [
    "## 6. Evaluate the Model\n- This will generate metrics and a confusion matrix."
   ]
  },
  {
   "cell_type": "code",
   "metadata": {},
   "source": [
    "!python3 -m src.evaluate"
   ],
   "execution_count": null,
   "outputs": []
  },
  {
   "cell_type": "markdown",
   "metadata": {},
   "source": [
    "## 7. Export to TFLite (Optional)"
   ]
  },
  {
   "cell_type": "code",
   "metadata": {},
   "source": [
    "!python3 models/convert_tflite.py"
   ],
   "execution_count": null,
   "outputs": []
  },
  {
   "cell_type": "markdown",
   "metadata": {},
   "source": [
    "## 8. LIME Explainability (Optional)\n- Visualize LIME explanations for a sample image."
   ]
  },
  {
   "cell_type": "code",
   "metadata": {},
   "source": [
    "# Example usage:\n# !python3 src/lime_visualise.py data/raw/fruits-360/test/<class>/<image>.jpg lime_overlay.png\n# from PIL import Image\n# Image.open('lime_overlay.png')"
   ],
   "execution_count": null,
   "outputs": []
  },
  {
   "cell_type": "markdown",
   "metadata": {},
   "source": [
    "## 9. (Optional) Launch Streamlit App in Colab\n- This uses pyngrok to tunnel the app to a public URL.\n- Note: Streamlit UI in Colab is for demo only (not production)."
   ]
  },
  {
   "cell_type": "code",
   "metadata": {},
   "source": [
    "import threading\nfrom pyngrok import ngrok\n\ndef run_streamlit():\n    import os\n    os.system('streamlit run app/streamlit_app.py --server.port 8501')\n\nthreading.Thread(target=run_streamlit).start()\npublic_url = ngrok.connect(8501)\nprint('Streamlit app URL:', public_url)"
   ],
   "execution_count": null,
   "outputs": []
  }
 ],
 "metadata": {
  "kernelspec": {
   "display_name": "Python 3",
   "language": "python",
   "name": "python3"
  },
  "language_info": {
   "name": "python",
   "version": "3.10"
  }
 },
 "nbformat": 4,
 "nbformat_minor": 2
}